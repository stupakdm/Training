{
  "nbformat": 4,
  "nbformat_minor": 0,
  "metadata": {
    "colab": {
      "provenance": []
    },
    "kernelspec": {
      "name": "python3",
      "display_name": "Python 3"
    },
    "language_info": {
      "name": "python"
    }
  },
  "cells": [
    {
      "cell_type": "code",
      "execution_count": 15,
      "metadata": {
        "id": "8PdgZQanquue"
      },
      "outputs": [],
      "source": [
        "import torch\n",
        "import torch.nn as nn\n",
        "import torch.nn.functional as F\n",
        "import torchvision.datasets\n",
        "from torch.utils.data import DataLoader\n",
        "import torchvision.transforms as transforms\n",
        "import numpy as np"
      ]
    },
    {
      "cell_type": "code",
      "source": [
        "num_epochs = 5 \n",
        "num_classes = 10 \n",
        "batch_size = 100 \n",
        "learning_rate = 0.001"
      ],
      "metadata": {
        "id": "e2iiL9Y7q1Kk"
      },
      "execution_count": 16,
      "outputs": []
    },
    {
      "cell_type": "code",
      "source": [
        "trans = transforms.Compose([transforms.ToTensor(), transforms.Normalize((0.1307,), (0.3081,))])\n",
        "\n",
        "MNIST_train = torchvision.datasets.MNIST('./', download=True, train=True,  transform=trans)\n",
        "MNIST_test = torchvision.datasets.MNIST('./', download=True, train=False,  transform=trans)"
      ],
      "metadata": {
        "id": "-B8qlYFqq3JD"
      },
      "execution_count": 17,
      "outputs": []
    },
    {
      "cell_type": "code",
      "source": [
        "train_loader = DataLoader(dataset=MNIST_train, batch_size=batch_size,shuffle=True) \n",
        "test_loader = DataLoader(dataset=MNIST_test, batch_size=batch_size, shuffle=False)"
      ],
      "metadata": {
        "id": "eQxUCx1Gq-ji"
      },
      "execution_count": 18,
      "outputs": []
    },
    {
      "cell_type": "code",
      "source": [
        "class ConvNet(nn.Module): \n",
        "  def __init__(self): \n",
        "         super(ConvNet, self).__init__() \n",
        "         self.layer1 = nn.Sequential( nn.Conv2d(1, 32, kernel_size=5, stride=1, padding=2), \n",
        "            nn.ReLU(), nn.MaxPool2d(kernel_size=2, stride=2)) \n",
        "         self.layer2 = nn.Sequential( nn.Conv2d(32, 64, kernel_size=5, stride=1, padding=2), \n",
        "            nn.ReLU(), nn.MaxPool2d(kernel_size=2, stride=2)) \n",
        "         self.drop_out = nn.Dropout() \n",
        "         self.fc1 = nn.Linear(7 * 7 * 64, 1000) \n",
        "         self.fc2 = nn.Linear(1000, 10)\n",
        "  def forward(self, x): \n",
        "     out = self.layer1(x) \n",
        "     out = self.layer2(out) \n",
        "     out = out.reshape(out.size(0), -1) \n",
        "     out = self.drop_out(out) \n",
        "     out = self.fc1(out) \n",
        "     out = self.fc2(out) \n",
        "     return out\n"
      ],
      "metadata": {
        "id": "Rm_oVHBLrAjS"
      },
      "execution_count": 19,
      "outputs": []
    },
    {
      "cell_type": "code",
      "source": [
        "model = ConvNet()\n",
        "criterion = nn.CrossEntropyLoss()\n",
        "optimizer = torch.optim.Adam(model.parameters(), lr=learning_rate)"
      ],
      "metadata": {
        "id": "k4Fdo3QLrgt6"
      },
      "execution_count": 20,
      "outputs": []
    },
    {
      "cell_type": "code",
      "source": [
        "total_step = len(train_loader)\n",
        "loss_list = []\n",
        "acc_list = []\n",
        "for epoch in range(num_epochs):\n",
        "    for i, (images, labels) in enumerate(train_loader):\n",
        "        # Прямой запуск\n",
        "        outputs = model(images)\n",
        "        loss = criterion(outputs, labels)\n",
        "        loss_list.append(loss.item())\n",
        "\n",
        "        # Обратное распространение и оптимизатор\n",
        "        optimizer.zero_grad()\n",
        "        loss.backward()\n",
        "        optimizer.step()\n",
        "\n",
        "        # Отслеживание точности\n",
        "        total = labels.size(0)\n",
        "        _, predicted = torch.max(outputs.data, 1)\n",
        "        correct = (predicted == labels).sum().item()\n",
        "        acc_list.append(correct / total)\n",
        "\n",
        "        if (i + 1) % 100 == 0:\n",
        "            print('Epoch [{}/{}], Step [{}/{}], Loss: {:.4f}, Accuracy: {:.2f}%'\n",
        "                  .format(epoch + 1, num_epochs, i + 1, total_step, loss.item(),\n",
        "                          (correct / total) * 100))"
      ],
      "metadata": {
        "colab": {
          "base_uri": "https://localhost:8080/"
        },
        "id": "5rlIy6GxrnTr",
        "outputId": "a39332c1-931b-4221-8988-b2d200b282f4"
      },
      "execution_count": 21,
      "outputs": [
        {
          "output_type": "stream",
          "name": "stdout",
          "text": [
            "Epoch [1/5], Step [100/600], Loss: 0.1907, Accuracy: 95.00%\n",
            "Epoch [1/5], Step [200/600], Loss: 0.1327, Accuracy: 96.00%\n",
            "Epoch [1/5], Step [300/600], Loss: 0.0893, Accuracy: 96.00%\n",
            "Epoch [1/5], Step [400/600], Loss: 0.0832, Accuracy: 98.00%\n",
            "Epoch [1/5], Step [500/600], Loss: 0.1445, Accuracy: 95.00%\n",
            "Epoch [1/5], Step [600/600], Loss: 0.0668, Accuracy: 98.00%\n",
            "Epoch [2/5], Step [100/600], Loss: 0.0062, Accuracy: 100.00%\n",
            "Epoch [2/5], Step [200/600], Loss: 0.0550, Accuracy: 98.00%\n",
            "Epoch [2/5], Step [300/600], Loss: 0.0339, Accuracy: 99.00%\n",
            "Epoch [2/5], Step [400/600], Loss: 0.0851, Accuracy: 98.00%\n",
            "Epoch [2/5], Step [500/600], Loss: 0.0750, Accuracy: 97.00%\n",
            "Epoch [2/5], Step [600/600], Loss: 0.1233, Accuracy: 95.00%\n",
            "Epoch [3/5], Step [100/600], Loss: 0.0154, Accuracy: 99.00%\n",
            "Epoch [3/5], Step [200/600], Loss: 0.0397, Accuracy: 98.00%\n",
            "Epoch [3/5], Step [300/600], Loss: 0.1387, Accuracy: 97.00%\n",
            "Epoch [3/5], Step [400/600], Loss: 0.1387, Accuracy: 97.00%\n",
            "Epoch [3/5], Step [500/600], Loss: 0.0246, Accuracy: 99.00%\n",
            "Epoch [3/5], Step [600/600], Loss: 0.0339, Accuracy: 99.00%\n",
            "Epoch [4/5], Step [100/600], Loss: 0.0469, Accuracy: 99.00%\n",
            "Epoch [4/5], Step [200/600], Loss: 0.1062, Accuracy: 96.00%\n",
            "Epoch [4/5], Step [300/600], Loss: 0.1074, Accuracy: 98.00%\n",
            "Epoch [4/5], Step [400/600], Loss: 0.1423, Accuracy: 96.00%\n",
            "Epoch [4/5], Step [500/600], Loss: 0.0455, Accuracy: 98.00%\n",
            "Epoch [4/5], Step [600/600], Loss: 0.0341, Accuracy: 98.00%\n",
            "Epoch [5/5], Step [100/600], Loss: 0.0673, Accuracy: 97.00%\n",
            "Epoch [5/5], Step [200/600], Loss: 0.0637, Accuracy: 97.00%\n",
            "Epoch [5/5], Step [300/600], Loss: 0.0166, Accuracy: 99.00%\n",
            "Epoch [5/5], Step [400/600], Loss: 0.0690, Accuracy: 98.00%\n",
            "Epoch [5/5], Step [500/600], Loss: 0.0734, Accuracy: 97.00%\n",
            "Epoch [5/5], Step [600/600], Loss: 0.1146, Accuracy: 98.00%\n"
          ]
        }
      ]
    },
    {
      "cell_type": "code",
      "source": [
        "model.eval()\n",
        "with torch.no_grad():\n",
        "    correct = 0\n",
        "    total = 0\n",
        "    for images, labels in test_loader:\n",
        "        outputs = model(images)\n",
        "        _, predicted = torch.max(outputs.data, 1)\n",
        "        total += labels.size(0)\n",
        "        correct += (predicted == labels).sum().item()\n",
        "\n",
        "    print('Test Accuracy of the model on the 10000 test images: {} %'.format((correct / total) * 100))\n"
      ],
      "metadata": {
        "colab": {
          "base_uri": "https://localhost:8080/"
        },
        "id": "9ushzMhOrwpr",
        "outputId": "e8f1b9ba-6931-4ac3-c5cf-b286cf154a5c"
      },
      "execution_count": 22,
      "outputs": [
        {
          "output_type": "stream",
          "name": "stdout",
          "text": [
            "Test Accuracy of the model on the 10000 test images: 98.97 %\n"
          ]
        }
      ]
    },
    {
      "cell_type": "code",
      "source": [],
      "metadata": {
        "id": "-w793H0PsIor"
      },
      "execution_count": null,
      "outputs": []
    }
  ]
}