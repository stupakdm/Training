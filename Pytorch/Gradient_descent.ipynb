{
  "nbformat": 4,
  "nbformat_minor": 0,
  "metadata": {
    "colab": {
      "provenance": [],
      "collapsed_sections": []
    },
    "kernelspec": {
      "name": "python3",
      "display_name": "Python 3"
    },
    "language_info": {
      "name": "python"
    }
  },
  "cells": [
    {
      "cell_type": "code",
      "execution_count": null,
      "metadata": {
        "id": "5ob3wzUZVAAT"
      },
      "outputs": [],
      "source": [
        "import torch\n",
        "import numpy as np"
      ]
    },
    {
      "cell_type": "code",
      "source": [
        "x = torch.tensor(\n",
        "    [[1., 2., 3., 4.],\n",
        "     [5., 6., 7., 8.,],\n",
        "     [9., 10., 11., 12.]], requires_grad=True\n",
        ")\n",
        "\n",
        "w = torch.tensor([[5., 10.],\n",
        "        [1., 2.]], requires_grad=True)"
      ],
      "metadata": {
        "id": "8vvhbXHLVFYD"
      },
      "execution_count": null,
      "outputs": []
    },
    {
      "cell_type": "code",
      "source": [
        "device = torch.device('cuda:0' if torch.cuda.is_available() else 'cpu')"
      ],
      "metadata": {
        "id": "myBxdMhhVWWk"
      },
      "execution_count": null,
      "outputs": []
    },
    {
      "cell_type": "code",
      "source": [
        "x = x.to(device)\n",
        "w = w.to(device)"
      ],
      "metadata": {
        "id": "I0s-RAqcVhNT"
      },
      "execution_count": null,
      "outputs": []
    },
    {
      "cell_type": "code",
      "source": [
        "function1 = 10*(x**2).sum()\n",
        "function2 = torch.log(torch.log(w+7)).prod()"
      ],
      "metadata": {
        "id": "4pMGzkhMVj9L"
      },
      "execution_count": null,
      "outputs": []
    },
    {
      "cell_type": "code",
      "source": [
        "import requests\n"
      ],
      "metadata": {
        "id": "Yrk5rOp20vMc"
      },
      "execution_count": null,
      "outputs": []
    },
    {
      "cell_type": "code",
      "source": [
        "#Считаем градиент\n",
        "function1.backward()\n",
        "function2.backward()"
      ],
      "metadata": {
        "id": "emKHBFtmVrar"
      },
      "execution_count": null,
      "outputs": []
    },
    {
      "cell_type": "code",
      "source": [
        "print(x.grad, '<- gradient')"
      ],
      "metadata": {
        "colab": {
          "base_uri": "https://localhost:8080/"
        },
        "id": "VSQXN7xEVtwa",
        "outputId": "c44f5927-3072-4521-be49-b74803a80af0"
      },
      "execution_count": null,
      "outputs": [
        {
          "output_type": "stream",
          "name": "stdout",
          "text": [
            "tensor([[ 20.,  40.,  60.,  80.],\n",
            "        [100., 120., 140., 160.],\n",
            "        [180., 200., 220., 240.]]) <- gradient\n"
          ]
        }
      ]
    },
    {
      "cell_type": "code",
      "source": [
        "print(w.grad, '<-gradient')"
      ],
      "metadata": {
        "colab": {
          "base_uri": "https://localhost:8080/"
        },
        "id": "3G2KpbP7VyEj",
        "outputId": "b5295cf5-c6b0-4a22-830f-4849ca76c42e"
      },
      "execution_count": null,
      "outputs": [
        {
          "output_type": "stream",
          "name": "stdout",
          "text": [
            "tensor([[0.0201, 0.0109],\n",
            "        [0.0449, 0.0351]]) <-gradient\n"
          ]
        }
      ]
    },
    {
      "cell_type": "code",
      "source": [
        "print(function1.grad_fn)\n",
        "print(function1.grad_fn.next_functions[0][0])\n",
        "print(function1.grad_fn.next_functions[0][0].next_functions[0][0])\n",
        "print(function1.grad_fn.next_functions[0][0].next_functions[0][0].next_functions[0][0])"
      ],
      "metadata": {
        "id": "fZEG9yLpYKnR",
        "colab": {
          "base_uri": "https://localhost:8080/"
        },
        "outputId": "4be51309-62c5-4689-8608-a2eb8a9278a2"
      },
      "execution_count": null,
      "outputs": [
        {
          "output_type": "stream",
          "name": "stdout",
          "text": [
            "<MulBackward0 object at 0x7f4a121a95d0>\n",
            "<SumBackward0 object at 0x7f4a121a9f50>\n",
            "<PowBackward0 object at 0x7f4a121a95d0>\n",
            "<AccumulateGrad object at 0x7f4a121a9d90>\n"
          ]
        }
      ]
    },
    {
      "cell_type": "code",
      "source": [
        "#Обновляем значения x, w  . Пишем x.data, так оно позволит обновить значения x и w\n",
        "alpha = 0.001\n",
        "x.data -= alpha*x.grad\n",
        "w.data -= alpha*w.grad"
      ],
      "metadata": {
        "id": "kS_UqbWodnBg"
      },
      "execution_count": null,
      "outputs": []
    },
    {
      "cell_type": "code",
      "source": [
        "x.grad.zero_()"
      ],
      "metadata": {
        "colab": {
          "base_uri": "https://localhost:8080/"
        },
        "id": "Mys3TkzGdxY-",
        "outputId": "8c473c86-ec88-423c-c3c4-1f198b936611"
      },
      "execution_count": null,
      "outputs": [
        {
          "output_type": "execute_result",
          "data": {
            "text/plain": [
              "tensor([[0., 0., 0., 0.],\n",
              "        [0., 0., 0., 0.],\n",
              "        [0., 0., 0., 0.]])"
            ]
          },
          "metadata": {},
          "execution_count": 28
        }
      ]
    },
    {
      "cell_type": "code",
      "source": [
        "w.data"
      ],
      "metadata": {
        "colab": {
          "base_uri": "https://localhost:8080/"
        },
        "id": "u3WNRNc7en7O",
        "outputId": "4a138c87-3cc4-47f7-fa3d-7bb360cb5ec9"
      },
      "execution_count": null,
      "outputs": [
        {
          "output_type": "execute_result",
          "data": {
            "text/plain": [
              "tensor([[ 5.0000, 10.0000],\n",
              "        [ 1.0000,  2.0000]])"
            ]
          },
          "metadata": {},
          "execution_count": 29
        }
      ]
    },
    {
      "cell_type": "code",
      "source": [
        "import torch\n",
        "\n",
        "w = torch.tensor([[5., 10.], [1., 2.]], requires_grad=True)\n",
        "alpha = 0.001\n",
        "\n",
        "for _ in range(500):\n",
        "    # critical: calculate the function inside the loop\n",
        "    function = (w + 7).log().log().prod()\n",
        "    function.backward()\n",
        "    w.data -=  alpha*w.grad# put code here\n",
        "    w.grad.zero_()\n",
        "\n",
        "print(w)"
      ],
      "metadata": {
        "colab": {
          "base_uri": "https://localhost:8080/"
        },
        "id": "cYL4vTQheoub",
        "outputId": "431d2d35-eb87-49b1-a80d-4472f6bf163e"
      },
      "execution_count": null,
      "outputs": [
        {
          "output_type": "stream",
          "name": "stdout",
          "text": [
            "tensor([[4.9900, 9.9948],\n",
            "        [0.9775, 1.9825]], requires_grad=True)\n"
          ]
        }
      ]
    },
    {
      "cell_type": "code",
      "source": [
        "import torch\n",
        "\n",
        "x = torch.tensor([8., 8.], requires_grad=True)\n",
        "\n",
        "optimizer = torch.optim.SGD([x], lr=0.001)\n",
        "\n",
        "def function_parabola(variable):\n",
        "  return 10*(variable**2).sum()\n",
        "\n",
        "def make_gradient_step(function, variable):\n",
        "  function_result = function(variable)\n",
        "  function_result.backward()\n",
        "  optimizer.step()\n",
        "  optimizer.zero_grad()\n",
        "\n",
        "for i in range(500):\n",
        "  make_gradient_step(function_parabola, x)"
      ],
      "metadata": {
        "id": "8xmCqzXzfAjc"
      },
      "execution_count": null,
      "outputs": []
    },
    {
      "cell_type": "code",
      "source": [
        "import torch\n",
        "\n",
        "w = torch.tensor([[5., 10.], [1., 2.]], requires_grad=True)\n",
        "alpha = 0.001\n",
        "optimizer =  torch.optim.SGD([w], lr=alpha)\n",
        "\n",
        "for _ in range(500):\n",
        "    # it's critical to calculate function inside the loop:\n",
        "    function = (w + 7).log().log().prod()\n",
        "    function.backward()\n",
        "    optimizer.step()\n",
        "    optimizer.zero_grad()\n",
        "\n",
        "print(w)"
      ],
      "metadata": {
        "colab": {
          "base_uri": "https://localhost:8080/"
        },
        "id": "QlkUDvDJ-JDD",
        "outputId": "a6a77e37-57be-4e84-cb54-6ca68b64ca4d"
      },
      "execution_count": null,
      "outputs": [
        {
          "output_type": "stream",
          "name": "stdout",
          "text": [
            "tensor([[4.9900, 9.9948],\n",
            "        [0.9775, 1.9825]], requires_grad=True)\n"
          ]
        }
      ]
    },
    {
      "cell_type": "code",
      "source": [
        "import matplotlib.pyplot as plt"
      ],
      "metadata": {
        "id": "BwZhH2-T-fll"
      },
      "execution_count": null,
      "outputs": []
    }
  ]
}